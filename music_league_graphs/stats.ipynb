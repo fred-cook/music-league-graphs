{
 "cells": [
  {
   "cell_type": "code",
   "execution_count": 9,
   "metadata": {},
   "outputs": [],
   "source": [
    "from pathlib import Path\n",
    "import requests\n",
    "\n",
    "\n",
    "from scraper import create_dataframe\n",
    "from spotify_api import headers"
   ]
  },
  {
   "cell_type": "code",
   "execution_count": 10,
   "metadata": {},
   "outputs": [],
   "source": [
    "df, names = create_dataframe(Path(\"../league\"))"
   ]
  },
  {
   "cell_type": "code",
   "execution_count": null,
   "metadata": {},
   "outputs": [],
   "source": [
    "tracks = ','.join(df[\"song_id\"].iloc[:])\n",
    "url = f'https://api.spotify.com/v1/tracks?ids={tracks}'\n",
    "\n",
    "p = requests.get(url, headers=headers)"
   ]
  },
  {
   "cell_type": "code",
   "execution_count": null,
   "metadata": {},
   "outputs": [],
   "source": [
    "len(p.json()[\"tracks\"])"
   ]
  },
  {
   "cell_type": "code",
   "execution_count": 17,
   "metadata": {},
   "outputs": [
    {
     "data": {
      "text/plain": [
       "dict_keys(['album', 'artists', 'available_markets', 'disc_number', 'duration_ms', 'explicit', 'external_ids', 'external_urls', 'href', 'id', 'is_local', 'name', 'popularity', 'preview_url', 'track_number', 'type', 'uri'])"
      ]
     },
     "execution_count": 17,
     "metadata": {},
     "output_type": "execute_result"
    }
   ],
   "source": [
    "x.keys()"
   ]
  },
  {
   "cell_type": "code",
   "execution_count": 22,
   "metadata": {},
   "outputs": [
    {
     "data": {
      "text/plain": [
       "([{'external_urls': {'spotify': 'https://open.spotify.com/artist/7Ead768rc4ShGxnqtqccU5'},\n",
       "   'href': 'https://api.spotify.com/v1/artists/7Ead768rc4ShGxnqtqccU5',\n",
       "   'id': '7Ead768rc4ShGxnqtqccU5',\n",
       "   'name': 'Sarah Brightman',\n",
       "   'type': 'artist',\n",
       "   'uri': 'spotify:artist:7Ead768rc4ShGxnqtqccU5'},\n",
       "  {'external_urls': {'spotify': 'https://open.spotify.com/artist/5PbgBNZiQUNOh5JEVQtfH3'},\n",
       "   'href': 'https://api.spotify.com/v1/artists/5PbgBNZiQUNOh5JEVQtfH3',\n",
       "   'id': '5PbgBNZiQUNOh5JEVQtfH3',\n",
       "   'name': 'Hot Gossip',\n",
       "   'type': 'artist',\n",
       "   'uri': 'spotify:artist:5PbgBNZiQUNOh5JEVQtfH3'}],\n",
       " 258986,\n",
       " False,\n",
       " 'I Lost My Heart to a Starship Trooper',\n",
       " 26,\n",
       " 'track')"
      ]
     },
     "execution_count": 22,
     "metadata": {},
     "output_type": "execute_result"
    }
   ],
   "source": [
    "x[\"artists\"], x[\"duration_ms\"], x[\"explicit\"], x[\"name\"], x[\"popularity\"]"
   ]
  },
  {
   "cell_type": "code",
   "execution_count": 25,
   "metadata": {},
   "outputs": [
    {
     "data": {
      "text/plain": [
       "'5PbgBNZiQUNOh5JEVQtfH3'"
      ]
     },
     "execution_count": 25,
     "metadata": {},
     "output_type": "execute_result"
    }
   ],
   "source": [
    "x[\"artists\"][1][\"id\"]"
   ]
  },
  {
   "cell_type": "code",
   "execution_count": null,
   "metadata": {},
   "outputs": [],
   "source": []
  }
 ],
 "metadata": {
  "kernelspec": {
   "display_name": ".venv",
   "language": "python",
   "name": "python3"
  },
  "language_info": {
   "codemirror_mode": {
    "name": "ipython",
    "version": 3
   },
   "file_extension": ".py",
   "mimetype": "text/x-python",
   "name": "python",
   "nbconvert_exporter": "python",
   "pygments_lexer": "ipython3",
   "version": "3.9.2"
  }
 },
 "nbformat": 4,
 "nbformat_minor": 2
}
