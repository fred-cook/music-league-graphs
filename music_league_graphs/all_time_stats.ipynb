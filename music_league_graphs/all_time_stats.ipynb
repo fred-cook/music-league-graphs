{
 "cells": [
  {
   "cell_type": "code",
   "execution_count": 14,
   "id": "fb18cd22",
   "metadata": {},
   "outputs": [],
   "source": [
    "from pathlib import Path\n",
    "from datetime import datetime, timedelta\n",
    "from functools import reduce\n",
    "from operator import add\n",
    "from collections import Counter\n",
    "\n",
    "import pandas as pd\n",
    "import numpy as np\n",
    "import matplotlib.pyplot as plt\n",
    "from  matplotlib.colors import LinearSegmentedColormap, TwoSlopeNorm\n",
    "import matplotlib.dates as mdates\n",
    "\n",
    "from music_league_graphs.scraper import create_dataframe\n",
    "from music_league_graphs.spotify_api import SpotifyAPI"
   ]
  },
  {
   "cell_type": "code",
   "execution_count": 2,
   "id": "cc36f26e",
   "metadata": {},
   "outputs": [],
   "source": [
    "paths = [Path(f\"../league_{i}\") for i in range(1, 5)]\n",
    "\n",
    "dfs: list[pd.DataFrame] = []\n",
    "names: set[str] = set()\n",
    "\n",
    "for path in paths:\n",
    "    df, league_names = create_dataframe(path)\n",
    "    df[\"league\"] = path.stem\n",
    "    dfs.append(df)\n",
    "    names = names.union(set(league_names))\n",
    "\n",
    "names = list(names)\n",
    "df = pd.concat(dfs, axis=0, ignore_index=True)\n",
    "\n",
    "df[\"round_score\"] = df[names].sum(axis=1)\n",
    "df[\"round_rank\"] = df.groupby(\"round\")[\"round_score\"].rank(ascending=False).astype(int)\n"
   ]
  },
  {
   "cell_type": "code",
   "execution_count": 3,
   "id": "4f602d4f",
   "metadata": {},
   "outputs": [
    {
     "data": {
      "application/vnd.microsoft.datawrangler.viewer.v0+json": {
       "columns": [
        {
         "name": "index",
         "rawType": "int64",
         "type": "integer"
        },
        {
         "name": "submitter",
         "rawType": "object",
         "type": "string"
        },
        {
         "name": "round",
         "rawType": "object",
         "type": "string"
        },
        {
         "name": "round_score",
         "rawType": "float64",
         "type": "float"
        }
       ],
       "conversionMethod": "pd.DataFrame",
       "ref": "c2299e9a-58bb-4a24-96e3-89b880c8c3cc",
       "rows": [
        [
         "168",
         "murray",
         "Ich spreche kein Englisch 👽",
         "29.0"
        ],
        [
         "617",
         "Tim",
         "👇 Straight to the point",
         "26.0"
        ],
        [
         "465",
         "fred",
         "Sp00ky 👻",
         "25.0"
        ],
        [
         "227",
         "Jenny Seaborne",
         "Best live version 🎤",
         "24.0"
        ],
        [
         "113",
         "Jamie",
         "Film Soundtrack 🎞",
         "23.0"
        ],
        [
         "38",
         "Jamie",
         "Cover🎪",
         "23.0"
        ],
        [
         "539",
         "Mel Shallcrass",
         "Breaking the law 🕵️‍♀️",
         "22.0"
        ],
        [
         "57",
         "Mel Shallcrass",
         "120 seconds to go ⏱",
         "21.0"
        ],
        [
         "114",
         "Martha Mukungurutse",
         "Film Soundtrack 🎞",
         "21.0"
        ],
        [
         "637",
         "Helen Adams",
         "⚓ Track related to a Riskaware core value",
         "20.0"
        ],
        [
         "351",
         "Martha Mukungurutse",
         "Best summer song ☀",
         "20.0"
        ],
        [
         "289",
         "Martha Mukungurutse",
         "Boxing entrance music 🥊",
         "20.0"
        ],
        [
         "0",
         "Rory",
         "Eurovision💶👀",
         "20.0"
        ],
        [
         "716",
         "Jenny",
         "🎯 Darts walk on song",
         "19.0"
        ],
        [
         "247",
         "Martha Mukungurutse",
         "To the polls❌",
         "19.0"
        ],
        [
         "229",
         "Bethany Dickens-Devereux",
         "Best live version 🎤",
         "19.0"
        ],
        [
         "446",
         "Jenny",
         "Duets 🎤",
         "19.0"
        ],
        [
         "735",
         "Russell",
         "💘 Best love song",
         "19.0"
        ],
        [
         "76",
         "murray",
         "Remix 🔀",
         "19.0"
        ],
        [
         "558",
         "Peter Rowe",
         "Colours 🎨",
         "19.0"
        ],
        [
         "77",
         "Martha Mukungurutse",
         "Remix 🔀",
         "19.0"
        ],
        [
         "94",
         "Mel Shallcrass",
         "Wish you were here 🌍",
         "19.0"
        ],
        [
         "330",
         "Figataur",
         "Riskware's anthem 🎶",
         "19.0"
        ],
        [
         "39",
         "Bethany Dickens-Devereux",
         "Cover🎪",
         "18.0"
        ],
        [
         "78",
         "fred",
         "Remix 🔀",
         "18.0"
        ],
        [
         "371",
         "Helen Adams",
         "Best solo breakout from group 🚀",
         "18.0"
        ],
        [
         "309",
         "Helen Adams",
         "Song with a drink in the title 🍸",
         "18.0"
        ],
        [
         "757",
         "Mel Shallcrass",
         "🌡 Can you quantify that",
         "18.0"
        ],
        [
         "756",
         "fred",
         "🌡 Can you quantify that",
         "18.0"
        ],
        [
         "755",
         "Jenny Seaborne",
         "🌡 Can you quantify that",
         "18.0"
        ],
        [
         "150",
         "Jenny",
         "Songs to code to 👩‍💻",
         "18.0"
        ],
        [
         "559",
         "fred",
         "Colours 🎨",
         "18.0"
        ],
        [
         "577",
         "Tim",
         "🎸 Best instrumental",
         "18.0"
        ],
        [
         "520",
         "Rory",
         "Musicals 🎭",
         "18.0"
        ],
        [
         "522",
         "James Hardwick",
         "Musicals 🎭",
         "17.0"
        ],
        [
         "521",
         "Tim            :)",
         "Musicals 🎭",
         "17.0"
        ],
        [
         "447",
         "James Hardwick",
         "Duets 🎤",
         "17.0"
        ],
        [
         "392",
         "Tim            :)",
         "URTEK names 📛",
         "17.0"
        ],
        [
         "411",
         "Jenny Seaborne",
         "Advert songs 📺",
         "17.0"
        ],
        [
         "578",
         "Andrej Zacharenkov",
         "🎸 Best instrumental",
         "17.0"
        ],
        [
         "657",
         "fred",
         "🔢 Numerical track",
         "17.0"
        ],
        [
         "151",
         "Helen Adams",
         "Songs to code to 👩‍💻",
         "17.0"
        ],
        [
         "502",
         "Russell",
         "Spotify wrapped tracks 🎁",
         "17.0"
        ],
        [
         "696",
         "Jenny",
         "🤝 Most surprising collaboration",
         "16.0"
        ],
        [
         "58",
         "Jamie",
         "120 seconds to go ⏱",
         "16.0"
        ],
        [
         "79",
         "Mel Shallcrass",
         "Remix 🔀",
         "16.0"
        ],
        [
         "132",
         "Bethany Dickens-Devereux",
         "Generation Game 👶",
         "16.0"
        ],
        [
         "131",
         "Sacha Darwin",
         "Generation Game 👶",
         "16.0"
        ],
        [
         "717",
         "Martha Mukungurutse",
         "🎯 Darts walk on song",
         "16.0"
        ],
        [
         "697",
         "fred",
         "🤝 Most surprising collaboration",
         "16.0"
        ]
       ],
       "shape": {
        "columns": 3,
        "rows": 775
       }
      },
      "text/html": [
       "<div>\n",
       "<style scoped>\n",
       "    .dataframe tbody tr th:only-of-type {\n",
       "        vertical-align: middle;\n",
       "    }\n",
       "\n",
       "    .dataframe tbody tr th {\n",
       "        vertical-align: top;\n",
       "    }\n",
       "\n",
       "    .dataframe thead th {\n",
       "        text-align: right;\n",
       "    }\n",
       "</style>\n",
       "<table border=\"1\" class=\"dataframe\">\n",
       "  <thead>\n",
       "    <tr style=\"text-align: right;\">\n",
       "      <th></th>\n",
       "      <th>submitter</th>\n",
       "      <th>round</th>\n",
       "      <th>round_score</th>\n",
       "    </tr>\n",
       "  </thead>\n",
       "  <tbody>\n",
       "    <tr>\n",
       "      <th>168</th>\n",
       "      <td>murray</td>\n",
       "      <td>Ich spreche kein Englisch 👽</td>\n",
       "      <td>29.0</td>\n",
       "    </tr>\n",
       "    <tr>\n",
       "      <th>617</th>\n",
       "      <td>Tim</td>\n",
       "      <td>👇 Straight to the point</td>\n",
       "      <td>26.0</td>\n",
       "    </tr>\n",
       "    <tr>\n",
       "      <th>465</th>\n",
       "      <td>fred</td>\n",
       "      <td>Sp00ky 👻</td>\n",
       "      <td>25.0</td>\n",
       "    </tr>\n",
       "    <tr>\n",
       "      <th>227</th>\n",
       "      <td>Jenny Seaborne</td>\n",
       "      <td>Best live version 🎤</td>\n",
       "      <td>24.0</td>\n",
       "    </tr>\n",
       "    <tr>\n",
       "      <th>113</th>\n",
       "      <td>Jamie</td>\n",
       "      <td>Film Soundtrack 🎞</td>\n",
       "      <td>23.0</td>\n",
       "    </tr>\n",
       "    <tr>\n",
       "      <th>...</th>\n",
       "      <td>...</td>\n",
       "      <td>...</td>\n",
       "      <td>...</td>\n",
       "    </tr>\n",
       "    <tr>\n",
       "      <th>267</th>\n",
       "      <td>sam24ahhhhhh</td>\n",
       "      <td>To the polls❌</td>\n",
       "      <td>-11.0</td>\n",
       "    </tr>\n",
       "    <tr>\n",
       "      <th>246</th>\n",
       "      <td>Olek</td>\n",
       "      <td>Best live version 🎤</td>\n",
       "      <td>-12.0</td>\n",
       "    </tr>\n",
       "    <tr>\n",
       "      <th>576</th>\n",
       "      <td>sam24ahhhhhh</td>\n",
       "      <td>Colours 🎨</td>\n",
       "      <td>-12.0</td>\n",
       "    </tr>\n",
       "    <tr>\n",
       "      <th>130</th>\n",
       "      <td>Olek</td>\n",
       "      <td>Film Soundtrack 🎞</td>\n",
       "      <td>-13.0</td>\n",
       "    </tr>\n",
       "    <tr>\n",
       "      <th>75</th>\n",
       "      <td>Andrej Zacharenkov</td>\n",
       "      <td>120 seconds to go ⏱</td>\n",
       "      <td>-17.0</td>\n",
       "    </tr>\n",
       "  </tbody>\n",
       "</table>\n",
       "<p>775 rows × 3 columns</p>\n",
       "</div>"
      ],
      "text/plain": [
       "              submitter                        round  round_score\n",
       "168              murray  Ich spreche kein Englisch 👽         29.0\n",
       "617                 Tim      👇 Straight to the point         26.0\n",
       "465                fred                     Sp00ky 👻         25.0\n",
       "227      Jenny Seaborne          Best live version 🎤         24.0\n",
       "113               Jamie            Film Soundtrack 🎞         23.0\n",
       "..                  ...                          ...          ...\n",
       "267        sam24ahhhhhh                To the polls❌        -11.0\n",
       "246                Olek          Best live version 🎤        -12.0\n",
       "576        sam24ahhhhhh                    Colours 🎨        -12.0\n",
       "130                Olek            Film Soundtrack 🎞        -13.0\n",
       "75   Andrej Zacharenkov          120 seconds to go ⏱        -17.0\n",
       "\n",
       "[775 rows x 3 columns]"
      ]
     },
     "execution_count": 3,
     "metadata": {},
     "output_type": "execute_result"
    }
   ],
   "source": [
    "df.sort_values(\"round_score\", ascending=False)[[\"submitter\", \"round\", \"round_score\"]]"
   ]
  },
  {
   "cell_type": "code",
   "execution_count": 4,
   "id": "3dee45d1",
   "metadata": {},
   "outputs": [
    {
     "data": {
      "text/plain": [
       "submitter\n",
       "Martha Mukungurutse         463.0\n",
       "fred                        395.0\n",
       "Jenny                       384.0\n",
       "Helen Adams                 349.0\n",
       "Jamie                       295.0\n",
       "Russell                     283.0\n",
       "Tim                         282.0\n",
       "Mel Shallcrass              272.0\n",
       "James Hardwick              265.0\n",
       "Jenny Seaborne              242.0\n",
       "murray                      234.0\n",
       "Sacha Darwin                214.0\n",
       "diplodocus.17               213.0\n",
       "Tim            :)           202.0\n",
       "Andrej Zacharenkov          149.0\n",
       "Figataur                    145.0\n",
       "Bethany Dickens-Devereux    138.0\n",
       "Rory                        132.0\n",
       "Sowdagar                    119.0\n",
       "owainst                      94.0\n",
       "Una                          78.0\n",
       "sam24ahhhhhh                 69.0\n",
       "Victoria Whitehead           50.0\n",
       "Peter Rowe                   38.0\n",
       "Olek                          6.0\n",
       "Name: round_score, dtype: float64"
      ]
     },
     "execution_count": 4,
     "metadata": {},
     "output_type": "execute_result"
    }
   ],
   "source": [
    "df.groupby(\"submitter\")[\"round_score\"].sum().sort_values(ascending=False)"
   ]
  },
  {
   "cell_type": "code",
   "execution_count": 6,
   "id": "710ac315",
   "metadata": {},
   "outputs": [
    {
     "name": "stderr",
     "output_type": "stream",
     "text": [
      "/home/ferd/music-league-graphs/.venv/lib/python3.11/site-packages/numpy/_core/fromnumeric.py:57: FutureWarning: 'Series.swapaxes' is deprecated and will be removed in a future version. Please use 'Series.transpose' instead.\n",
      "  return bound(*args, **kwds)\n"
     ]
    }
   ],
   "source": [
    "try:\n",
    "    api = SpotifyAPI()\n",
    "    api.get_data(df[\"song_id\"])\n",
    "    spotify_data = api.df\n",
    "    df = pd.concat((df, spotify_data), axis=1)\n",
    "except RuntimeError:\n",
    "    print(\"Couldn't access spotify API\")\n",
    "    raise"
   ]
  },
  {
   "cell_type": "code",
   "execution_count": 15,
   "id": "b9be45c7",
   "metadata": {},
   "outputs": [],
   "source": [
    "artist_counts = Counter(df[\"artist_names\"].explode())\n"
   ]
  },
  {
   "cell_type": "code",
   "execution_count": 21,
   "id": "2b9b0f67",
   "metadata": {},
   "outputs": [
    {
     "name": "stdout",
     "output_type": "stream",
     "text": [
      "Andrej Zacharenkov        | [('t.A.T.u.', 2), ('Lady Gaga', 2), ('Cornelia Jakobs', 1)]\n",
      "Bethany Dickens-Devereux  | [('Charli xcx', 2), ('Eleni Foureira', 1), ('Fugees', 1)]\n",
      "Figataur                  | [('Carl Douglas', 1), ('The Specials', 1), ('Mirrorball', 1)]\n",
      "Helen Adams               | [('Stevie Nicks', 2), ('Gina G.', 1), ('Fever Ray', 1)]\n",
      "James Hardwick            | [('SHY FX', 2), ('Sunstroke', 1), ('Olia Tira', 1)]\n",
      "Jamie                     | [('Eminem', 2), ('Käärijä', 1), ('The Last Dinner Party', 1)]\n",
      "Jenny                     | [('Lizzo', 2), ('KEiiNO', 1), ('WARGASM (UK)', 1)]\n",
      "Jenny Seaborne            | [('Wheatus', 1), ('Crazy Town', 1), ('Nirvana', 1)]\n",
      "Martha Mukungurutse       | [('Dolly Parton', 2), ('Kraftwerk', 2), ('Nick Cave & The Bad Seeds', 2)]\n",
      "Mel Shallcrass            | [('The White Stripes', 2), ('Barbara Pravi', 1), ('Wheeler Walker Jr.', 1)]\n",
      "Olek                      | [('Justice', 3), ('khai dreams', 2), ('Lordi', 1)]\n",
      "Peter Rowe                | [('The Beatles', 2), ('André 3000', 1), ('Alexander Borodin', 1)]\n",
      "Rory                      | [('SOFT PLAY', 2), ('Puscifer', 2), ('Go_A', 1)]\n",
      "Russell                   | [('Cliff Richard', 1), ('IDLES', 1), ('LCD Soundsystem', 1)]\n",
      "Sacha Darwin              | [('Death', 2), ('Sepultura', 2), ('Rage Against The Machine', 2)]\n",
      "Sowdagar                  | [('Aphex Twin', 1), ('Bonobo', 1), ('The Clash', 1)]\n",
      "Tim                       | [('Metallica', 2), ('The Bronze Medal', 2), ('Sam Ryder', 1)]\n",
      "Tim            :)         | [('Blind Channel', 1), ('Laufey', 1), ('The Barden Bellas', 1)]\n",
      "Una                       | [('Weather Report', 1), ('A Tribe Called Quest', 1), ('The Smiths', 1)]\n",
      "Victoria Whitehead        | [('Lord Of The Lost', 1), ('Del Water Gap', 1), ('Birdy', 1)]\n",
      "diplodocus.17             | [('Dubkasm', 2), ('Horseman', 2), ('Wayne Smith', 1)]\n",
      "fred                      | [('Dennis Brown', 2), ('Verka Serduchka', 1), ('Kylie Minogue', 1)]\n",
      "murray                    | [('Dolly Parton', 3), ('Röyksopp', 2), ('Jimmy Buffett', 2)]\n",
      "owainst                   | [('Subwoolfer', 1), ('King Gnu', 1), ('Blowsight', 1)]\n",
      "sam24ahhhhhh              | [('Pizzatramp', 1), ('Scowl', 1), ('Motörhead', 1)]\n"
     ]
    }
   ],
   "source": [
    "counters: dict[str, Counter] = {}\n",
    "\n",
    "for submitter, mini_df in df.groupby(\"submitter\")[\"artist_names\"]:\n",
    "    print(f\"{submitter:<25s} | {Counter(mini_df.explode()).most_common(3)}\")\n",
    "\n",
    "\n"
   ]
  },
  {
   "cell_type": "code",
   "execution_count": 19,
   "id": "bf68dd9f",
   "metadata": {},
   "outputs": [
    {
     "data": {
      "text/plain": [
       "[('Zombie', 3), ('Here Comes the Hotstepper', 3), ('Cha Cha Cha', 2)]"
      ]
     },
     "execution_count": 19,
     "metadata": {},
     "output_type": "execute_result"
    }
   ],
   "source": [
    "song_counts = Counter(df[\"song_name\"].explode())\n",
    "song_counts.most_common(3)"
   ]
  },
  {
   "cell_type": "code",
   "execution_count": null,
   "id": "4d8897c3",
   "metadata": {},
   "outputs": [],
   "source": []
  }
 ],
 "metadata": {
  "kernelspec": {
   "display_name": ".venv",
   "language": "python",
   "name": "python3"
  },
  "language_info": {
   "codemirror_mode": {
    "name": "ipython",
    "version": 3
   },
   "file_extension": ".py",
   "mimetype": "text/x-python",
   "name": "python",
   "nbconvert_exporter": "python",
   "pygments_lexer": "ipython3",
   "version": "3.11.11"
  }
 },
 "nbformat": 4,
 "nbformat_minor": 5
}
